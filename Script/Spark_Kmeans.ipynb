{
 "cells": [
  {
   "cell_type": "markdown",
   "metadata": {},
   "source": [
    "# <font color='blue'>**PROJET KMEANS** </font>"
   ]
  },
  {
   "cell_type": "markdown",
   "metadata": {},
   "source": [
    "# Importation des packages"
   ]
  },
  {
   "cell_type": "code",
   "execution_count": 1,
   "metadata": {},
   "outputs": [],
   "source": [
    "from pyspark.sql import SparkSession\n",
    "from pyspark.sql import functions as F"
   ]
  },
  {
   "cell_type": "markdown",
   "metadata": {},
   "source": [
    "# 1) Instanciation de SparkSession"
   ]
  },
  {
   "cell_type": "code",
   "execution_count": 2,
   "metadata": {},
   "outputs": [],
   "source": [
    "Spark = SparkSession.builder.master(\"local\").appName(\"Kmeans\").getOrCreate()"
   ]
  },
  {
   "cell_type": "markdown",
   "metadata": {},
   "source": [
    " # 2) Configuration"
   ]
  },
  {
   "cell_type": "code",
   "execution_count": 3,
   "metadata": {},
   "outputs": [],
   "source": [
    "import configparser\n",
    "config = configparser.ConfigParser()\n",
    "config.read('properties.conf')\n",
    "path_to_input_data= config['Brisbane_City_Bike']['Input_data']\n",
    "path_to_output_data= config['Brisbane_City_Bike']['Output_data']\n",
    "num_partition_kmeans = int(config['Brisbane_City_Bike']['Kmeans_level'])"
   ]
  },
  {
   "cell_type": "markdown",
   "metadata": {},
   "source": [
    "# 3) Importation"
   ]
  },
  {
   "cell_type": "code",
   "execution_count": 4,
   "metadata": {},
   "outputs": [
    {
     "name": "stdout",
     "output_type": "stream",
     "text": [
      "+--------------------+----------+----------+--------------------+------+\n",
      "|             address|  latitude| longitude|                name|number|\n",
      "+--------------------+----------+----------+--------------------+------+\n",
      "|Lower River Tce /...|-27.482279|153.028723|122 - LOWER RIVER...|   122|\n",
      "|Main St / Darragh St| -27.47059|153.036046|91 - MAIN ST / DA...|    91|\n",
      "|Sydney St Ferry T...|-27.474531|153.042728|88 - SYDNEY ST FE...|    88|\n",
      "|Browne St / James St|-27.461881|153.046986|75 - BROWNE ST / ...|    75|\n",
      "|Kurilpa Point / M...|-27.469658|153.016696|98 - KURILPA POIN...|    98|\n",
      "|Montague Rd / Ski...| -27.48172| 153.00436|109 - MONTAGUE RD...|   109|\n",
      "|Macquarie St / Gu...|-27.493626|153.001482|149 - MACQUARIE S...|   149|\n",
      "|Bi-centennial Bik...|-27.476076|153.002459|139 - BI-CENTENNI...|   139|\n",
      "|Sir William McGre...|-27.493963|153.011938|24 - SIR WILLIAM ...|    24|\n",
      "|Vulture St / Trib...|-27.482197|153.020894|117 - VULTURE ST ...|   117|\n",
      "|Lamington St / Re...|-27.465226|153.050864|73 - LAMINGTON ST...|    73|\n",
      "|King George Square 2|-27.468447|153.024662|1101 - KING GEORG...|  1101|\n",
      "| Mary St / George St|-27.473021|153.025988|23 - MARY STREET ...|    23|\n",
      "|McLachlan St / Wi...|-27.457825|153.036866|54 - MCLACHLAN ST...|    54|\n",
      "|       Grey St / QCA| -27.48148| 153.02368|  93 - GREY ST / QCA|    93|\n",
      "| Roma St / Turbot St|-27.467464|153.022094|31 - ROMA ST / TU...|    31|\n",
      "|Thynne Rd / Colle...|-27.499963|153.017633|97 - THYNNE RD / ...|    97|\n",
      "|Sandford St / Bri...|-27.490776|152.994747|147 - SANDFORD ST...|   147|\n",
      "|James St / Harcou...|-27.458199|153.041688|77 - JAMES ST / H...|    77|\n",
      "|Sidon St / Little...|-27.481808|153.025477|119 - SIDON ST / ...|   119|\n",
      "+--------------------+----------+----------+--------------------+------+\n",
      "only showing top 20 rows\n",
      "\n"
     ]
    }
   ],
   "source": [
    "brisbane = Spark.read.option(\"header\",'true').option(\"delimiter\",\",\").json(path_to_input_data)\n",
    "brisbane.show()"
   ]
  },
  {
   "cell_type": "markdown",
   "metadata": {},
   "source": [
    "# 4) Création Kmeans_df"
   ]
  },
  {
   "cell_type": "code",
   "execution_count": 5,
   "metadata": {},
   "outputs": [
    {
     "name": "stdout",
     "output_type": "stream",
     "text": [
      "+----------+----------+\n",
      "|  latitude| longitude|\n",
      "+----------+----------+\n",
      "|-27.482279|153.028723|\n",
      "| -27.47059|153.036046|\n",
      "|-27.474531|153.042728|\n",
      "|-27.461881|153.046986|\n",
      "|-27.469658|153.016696|\n",
      "| -27.48172| 153.00436|\n",
      "|-27.493626|153.001482|\n",
      "|-27.476076|153.002459|\n",
      "|-27.493963|153.011938|\n",
      "|-27.482197|153.020894|\n",
      "|-27.465226|153.050864|\n",
      "|-27.468447|153.024662|\n",
      "|-27.473021|153.025988|\n",
      "|-27.457825|153.036866|\n",
      "| -27.48148| 153.02368|\n",
      "|-27.467464|153.022094|\n",
      "|-27.499963|153.017633|\n",
      "|-27.490776|152.994747|\n",
      "|-27.458199|153.041688|\n",
      "|-27.481808|153.025477|\n",
      "+----------+----------+\n",
      "only showing top 20 rows\n",
      "\n"
     ]
    }
   ],
   "source": [
    "Kmeans_df = brisbane.select('latitude','longitude')\n",
    "Kmeans_df.show()"
   ]
  },
  {
   "cell_type": "markdown",
   "metadata": {},
   "source": [
    "# 5) K-means"
   ]
  },
  {
   "cell_type": "code",
   "execution_count": 6,
   "metadata": {},
   "outputs": [],
   "source": [
    "from pyspark.ml.feature import VectorAssembler\n",
    "from pyspark.ml.clustering import KMeans"
   ]
  },
  {
   "cell_type": "code",
   "execution_count": 7,
   "metadata": {},
   "outputs": [],
   "source": [
    "features = ('longitude','latitude')"
   ]
  },
  {
   "cell_type": "code",
   "execution_count": 8,
   "metadata": {},
   "outputs": [],
   "source": [
    "kmeans = KMeans().setK(num_partition_kmeans).setSeed(1)#remettre num-partition-kmeans"
   ]
  },
  {
   "cell_type": "code",
   "execution_count": 9,
   "metadata": {},
   "outputs": [],
   "source": [
    "assembler = VectorAssembler(inputCols=features,outputCol=\"features\")"
   ]
  },
  {
   "cell_type": "code",
   "execution_count": 10,
   "metadata": {},
   "outputs": [
    {
     "name": "stdout",
     "output_type": "stream",
     "text": [
      "+----------+----------+--------------------+\n",
      "|  latitude| longitude|            features|\n",
      "+----------+----------+--------------------+\n",
      "|-27.482279|153.028723|[153.028723,-27.4...|\n",
      "| -27.47059|153.036046|[153.036046,-27.4...|\n",
      "|-27.474531|153.042728|[153.042728,-27.4...|\n",
      "|-27.461881|153.046986|[153.046986,-27.4...|\n",
      "|-27.469658|153.016696|[153.016696,-27.4...|\n",
      "| -27.48172| 153.00436|[153.00436,-27.48...|\n",
      "|-27.493626|153.001482|[153.001482,-27.4...|\n",
      "|-27.476076|153.002459|[153.002459,-27.4...|\n",
      "|-27.493963|153.011938|[153.011938,-27.4...|\n",
      "|-27.482197|153.020894|[153.020894,-27.4...|\n",
      "|-27.465226|153.050864|[153.050864,-27.4...|\n",
      "|-27.468447|153.024662|[153.024662,-27.4...|\n",
      "|-27.473021|153.025988|[153.025988,-27.4...|\n",
      "|-27.457825|153.036866|[153.036866,-27.4...|\n",
      "| -27.48148| 153.02368|[153.02368,-27.48...|\n",
      "|-27.467464|153.022094|[153.022094,-27.4...|\n",
      "|-27.499963|153.017633|[153.017633,-27.4...|\n",
      "|-27.490776|152.994747|[152.994747,-27.4...|\n",
      "|-27.458199|153.041688|[153.041688,-27.4...|\n",
      "|-27.481808|153.025477|[153.025477,-27.4...|\n",
      "+----------+----------+--------------------+\n",
      "only showing top 20 rows\n",
      "\n"
     ]
    }
   ],
   "source": [
    "dataset=assembler.transform(Kmeans_df)\n",
    "dataset.show()"
   ]
  },
  {
   "cell_type": "code",
   "execution_count": 11,
   "metadata": {},
   "outputs": [],
   "source": [
    "model = kmeans.fit(dataset)"
   ]
  },
  {
   "cell_type": "code",
   "execution_count": 12,
   "metadata": {},
   "outputs": [],
   "source": [
    "fitted = model.transform(dataset)"
   ]
  },
  {
   "cell_type": "code",
   "execution_count": 13,
   "metadata": {},
   "outputs": [
    {
     "name": "stdout",
     "output_type": "stream",
     "text": [
      "+----------+----------+--------------------+----------+\n",
      "|  latitude| longitude|            features|prediction|\n",
      "+----------+----------+--------------------+----------+\n",
      "|-27.482279|153.028723|[153.028723,-27.4...|         2|\n",
      "| -27.47059|153.036046|[153.036046,-27.4...|         2|\n",
      "|-27.474531|153.042728|[153.042728,-27.4...|         1|\n",
      "|-27.461881|153.046986|[153.046986,-27.4...|         1|\n",
      "|-27.469658|153.016696|[153.016696,-27.4...|         2|\n",
      "| -27.48172| 153.00436|[153.00436,-27.48...|         0|\n",
      "|-27.493626|153.001482|[153.001482,-27.4...|         0|\n",
      "|-27.476076|153.002459|[153.002459,-27.4...|         0|\n",
      "|-27.493963|153.011938|[153.011938,-27.4...|         0|\n",
      "|-27.482197|153.020894|[153.020894,-27.4...|         2|\n",
      "|-27.465226|153.050864|[153.050864,-27.4...|         1|\n",
      "|-27.468447|153.024662|[153.024662,-27.4...|         2|\n",
      "|-27.473021|153.025988|[153.025988,-27.4...|         2|\n",
      "|-27.457825|153.036866|[153.036866,-27.4...|         1|\n",
      "| -27.48148| 153.02368|[153.02368,-27.48...|         2|\n",
      "|-27.467464|153.022094|[153.022094,-27.4...|         2|\n",
      "|-27.499963|153.017633|[153.017633,-27.4...|         0|\n",
      "|-27.490776|152.994747|[152.994747,-27.4...|         0|\n",
      "|-27.458199|153.041688|[153.041688,-27.4...|         1|\n",
      "|-27.481808|153.025477|[153.025477,-27.4...|         2|\n",
      "+----------+----------+--------------------+----------+\n",
      "only showing top 20 rows\n",
      "\n"
     ]
    }
   ],
   "source": [
    "fitted.show()"
   ]
  },
  {
   "cell_type": "markdown",
   "metadata": {},
   "source": [
    "# 6) Les colonnes de fitted"
   ]
  },
  {
   "cell_type": "markdown",
   "metadata": {},
   "source": [
    "Les noms des colonnes de fitted sont latitude, longitude, features et prediction (vérification grâce à **fitted.show()**)"
   ]
  },
  {
   "cell_type": "markdown",
   "metadata": {},
   "source": [
    "# 7) Calcul des moyennes par cluster"
   ]
  },
  {
   "cell_type": "code",
   "execution_count": 14,
   "metadata": {},
   "outputs": [
    {
     "name": "stdout",
     "output_type": "stream",
     "text": [
      "+----------+-------------------+------------------+\n",
      "|prediction|   Moyenne_latitude| Moyenne_longitude|\n",
      "+----------+-------------------+------------------+\n",
      "|         0|-27.481218536585374|153.00572882926832|\n",
      "|         1|-27.460240636363633|153.04186302272726|\n",
      "|         2| -27.47255990624999|   153.02594553125|\n",
      "+----------+-------------------+------------------+\n",
      "\n"
     ]
    }
   ],
   "source": [
    "#SQL\n",
    "fitted.createOrReplaceTempView(\"fittedSQL\") #Transformation du data frame en table !!!!\n",
    "Spark.sql(\"Select prediction , mean(latitude) as Moyenne_latitude, mean(longitude) as Moyenne_longitude from fittedSQL group by prediction order by prediction \").show()"
   ]
  },
  {
   "cell_type": "code",
   "execution_count": 15,
   "metadata": {},
   "outputs": [
    {
     "name": "stdout",
     "output_type": "stream",
     "text": [
      "+----------+-------------------+------------------+\n",
      "|prediction|        Moyenne_lat|       Moyenne_lon|\n",
      "+----------+-------------------+------------------+\n",
      "|         0|-27.481218536585374|153.00572882926832|\n",
      "|         1|-27.460240636363633|153.04186302272726|\n",
      "|         2| -27.47255990624999|   153.02594553125|\n",
      "+----------+-------------------+------------------+\n",
      "\n"
     ]
    }
   ],
   "source": [
    "#DSL\n",
    "fitted_Kmeans = fitted.orderBy(F.col(\"prediction\")) \\\n",
    "      .groupBy(F.col(\"prediction\"))\\\n",
    "      .agg(F.mean(\"latitude\").alias(\"Moyenne_lat\"),F.mean(\"longitude\").alias(\"Moyenne_lon\"))\\\n",
    "      .show()"
   ]
  },
  {
   "cell_type": "markdown",
   "metadata": {},
   "source": [
    "On trouve les mêmes résultats avec DSL et SQL."
   ]
  },
  {
   "cell_type": "markdown",
   "metadata": {},
   "source": [
    "# 8) Affichage des coordonnées sur une carte leaflet"
   ]
  },
  {
   "cell_type": "code",
   "execution_count": 19,
   "metadata": {},
   "outputs": [],
   "source": [
    "import folium\n",
    "from folium.plugins import MarkerCluster\n",
    "import pandas as pd"
   ]
  },
  {
   "cell_type": "code",
   "execution_count": 21,
   "metadata": {},
   "outputs": [],
   "source": [
    "# Coordonnées acquises à la question 7\n",
    "Cluster_0 = [-27.481218536585374, 153.00572882926832]\n",
    "Cluster_1 = [-27.460240636363633,153.04186302272726]\n",
    "Cluster_2 = [-27.47255990624999,  153.02594553125]"
   ]
  },
  {
   "cell_type": "code",
   "execution_count": 29,
   "metadata": {},
   "outputs": [
    {
     "data": {
      "text/html": [
       "<div style=\"width:100%;\"><div style=\"position:relative;width:100%;height:0;padding-bottom:60%;\"><span style=\"color:#565656\">Make this Notebook Trusted to load map: File -> Trust Notebook</span><iframe src=\"about:blank\" style=\"position:absolute;width:100%;height:100%;left:0;top:0;border:none !important;\" data-html=%3C%21DOCTYPE%20html%3E%0A%3Chead%3E%20%20%20%20%0A%20%20%20%20%3Cmeta%20http-equiv%3D%22content-type%22%20content%3D%22text/html%3B%20charset%3DUTF-8%22%20/%3E%0A%20%20%20%20%0A%20%20%20%20%20%20%20%20%3Cscript%3E%0A%20%20%20%20%20%20%20%20%20%20%20%20L_NO_TOUCH%20%3D%20false%3B%0A%20%20%20%20%20%20%20%20%20%20%20%20L_DISABLE_3D%20%3D%20false%3B%0A%20%20%20%20%20%20%20%20%3C/script%3E%0A%20%20%20%20%0A%20%20%20%20%3Cstyle%3Ehtml%2C%20body%20%7Bwidth%3A%20100%25%3Bheight%3A%20100%25%3Bmargin%3A%200%3Bpadding%3A%200%3B%7D%3C/style%3E%0A%20%20%20%20%3Cstyle%3E%23map%20%7Bposition%3Aabsolute%3Btop%3A0%3Bbottom%3A0%3Bright%3A0%3Bleft%3A0%3B%7D%3C/style%3E%0A%20%20%20%20%3Cscript%20src%3D%22https%3A//cdn.jsdelivr.net/npm/leaflet%401.6.0/dist/leaflet.js%22%3E%3C/script%3E%0A%20%20%20%20%3Cscript%20src%3D%22https%3A//code.jquery.com/jquery-1.12.4.min.js%22%3E%3C/script%3E%0A%20%20%20%20%3Cscript%20src%3D%22https%3A//maxcdn.bootstrapcdn.com/bootstrap/3.2.0/js/bootstrap.min.js%22%3E%3C/script%3E%0A%20%20%20%20%3Cscript%20src%3D%22https%3A//cdnjs.cloudflare.com/ajax/libs/Leaflet.awesome-markers/2.0.2/leaflet.awesome-markers.js%22%3E%3C/script%3E%0A%20%20%20%20%3Clink%20rel%3D%22stylesheet%22%20href%3D%22https%3A//cdn.jsdelivr.net/npm/leaflet%401.6.0/dist/leaflet.css%22/%3E%0A%20%20%20%20%3Clink%20rel%3D%22stylesheet%22%20href%3D%22https%3A//maxcdn.bootstrapcdn.com/bootstrap/3.2.0/css/bootstrap.min.css%22/%3E%0A%20%20%20%20%3Clink%20rel%3D%22stylesheet%22%20href%3D%22https%3A//maxcdn.bootstrapcdn.com/bootstrap/3.2.0/css/bootstrap-theme.min.css%22/%3E%0A%20%20%20%20%3Clink%20rel%3D%22stylesheet%22%20href%3D%22https%3A//maxcdn.bootstrapcdn.com/font-awesome/4.6.3/css/font-awesome.min.css%22/%3E%0A%20%20%20%20%3Clink%20rel%3D%22stylesheet%22%20href%3D%22https%3A//cdnjs.cloudflare.com/ajax/libs/Leaflet.awesome-markers/2.0.2/leaflet.awesome-markers.css%22/%3E%0A%20%20%20%20%3Clink%20rel%3D%22stylesheet%22%20href%3D%22https%3A//cdn.jsdelivr.net/gh/python-visualization/folium/folium/templates/leaflet.awesome.rotate.min.css%22/%3E%0A%20%20%20%20%0A%20%20%20%20%20%20%20%20%20%20%20%20%3Cmeta%20name%3D%22viewport%22%20content%3D%22width%3Ddevice-width%2C%0A%20%20%20%20%20%20%20%20%20%20%20%20%20%20%20%20initial-scale%3D1.0%2C%20maximum-scale%3D1.0%2C%20user-scalable%3Dno%22%20/%3E%0A%20%20%20%20%20%20%20%20%20%20%20%20%3Cstyle%3E%0A%20%20%20%20%20%20%20%20%20%20%20%20%20%20%20%20%23map_e2be1c102c8d49208723c52375a2da9e%20%7B%0A%20%20%20%20%20%20%20%20%20%20%20%20%20%20%20%20%20%20%20%20position%3A%20relative%3B%0A%20%20%20%20%20%20%20%20%20%20%20%20%20%20%20%20%20%20%20%20width%3A%20100.0%25%3B%0A%20%20%20%20%20%20%20%20%20%20%20%20%20%20%20%20%20%20%20%20height%3A%20100.0%25%3B%0A%20%20%20%20%20%20%20%20%20%20%20%20%20%20%20%20%20%20%20%20left%3A%200.0%25%3B%0A%20%20%20%20%20%20%20%20%20%20%20%20%20%20%20%20%20%20%20%20top%3A%200.0%25%3B%0A%20%20%20%20%20%20%20%20%20%20%20%20%20%20%20%20%7D%0A%20%20%20%20%20%20%20%20%20%20%20%20%3C/style%3E%0A%20%20%20%20%20%20%20%20%0A%3C/head%3E%0A%3Cbody%3E%20%20%20%20%0A%20%20%20%20%0A%20%20%20%20%20%20%20%20%20%20%20%20%3Cdiv%20class%3D%22folium-map%22%20id%3D%22map_e2be1c102c8d49208723c52375a2da9e%22%20%3E%3C/div%3E%0A%20%20%20%20%20%20%20%20%0A%3C/body%3E%0A%3Cscript%3E%20%20%20%20%0A%20%20%20%20%0A%20%20%20%20%20%20%20%20%20%20%20%20var%20map_e2be1c102c8d49208723c52375a2da9e%20%3D%20L.map%28%0A%20%20%20%20%20%20%20%20%20%20%20%20%20%20%20%20%22map_e2be1c102c8d49208723c52375a2da9e%22%2C%0A%20%20%20%20%20%20%20%20%20%20%20%20%20%20%20%20%7B%0A%20%20%20%20%20%20%20%20%20%20%20%20%20%20%20%20%20%20%20%20center%3A%20%5B-27.47255990624999%2C%20153.02594553125%5D%2C%0A%20%20%20%20%20%20%20%20%20%20%20%20%20%20%20%20%20%20%20%20crs%3A%20L.CRS.EPSG3857%2C%0A%20%20%20%20%20%20%20%20%20%20%20%20%20%20%20%20%20%20%20%20zoom%3A%2013%2C%0A%20%20%20%20%20%20%20%20%20%20%20%20%20%20%20%20%20%20%20%20zoomControl%3A%20true%2C%0A%20%20%20%20%20%20%20%20%20%20%20%20%20%20%20%20%20%20%20%20preferCanvas%3A%20true%2C%0A%20%20%20%20%20%20%20%20%20%20%20%20%20%20%20%20%7D%0A%20%20%20%20%20%20%20%20%20%20%20%20%29%3B%0A%20%20%20%20%20%20%20%20%20%20%20%20L.control.scale%28%29.addTo%28map_e2be1c102c8d49208723c52375a2da9e%29%3B%0A%0A%20%20%20%20%20%20%20%20%20%20%20%20%0A%0A%20%20%20%20%20%20%20%20%0A%20%20%20%20%0A%20%20%20%20%20%20%20%20%20%20%20%20var%20tile_layer_8b5e0f381a2d4a678b47a974ddba3205%20%3D%20L.tileLayer%28%0A%20%20%20%20%20%20%20%20%20%20%20%20%20%20%20%20%22https%3A//%7Bs%7D.tile.openstreetmap.org/%7Bz%7D/%7Bx%7D/%7By%7D.png%22%2C%0A%20%20%20%20%20%20%20%20%20%20%20%20%20%20%20%20%7B%22attribution%22%3A%20%22Data%20by%20%5Cu0026copy%3B%20%5Cu003ca%20href%3D%5C%22http%3A//openstreetmap.org%5C%22%5Cu003eOpenStreetMap%5Cu003c/a%5Cu003e%2C%20under%20%5Cu003ca%20href%3D%5C%22http%3A//www.openstreetmap.org/copyright%5C%22%5Cu003eODbL%5Cu003c/a%5Cu003e.%22%2C%20%22detectRetina%22%3A%20false%2C%20%22maxNativeZoom%22%3A%2018%2C%20%22maxZoom%22%3A%2018%2C%20%22minZoom%22%3A%200%2C%20%22noWrap%22%3A%20false%2C%20%22opacity%22%3A%201%2C%20%22subdomains%22%3A%20%22abc%22%2C%20%22tms%22%3A%20false%7D%0A%20%20%20%20%20%20%20%20%20%20%20%20%29.addTo%28map_e2be1c102c8d49208723c52375a2da9e%29%3B%0A%20%20%20%20%20%20%20%20%0A%20%20%20%20%0A%20%20%20%20%20%20%20%20%20%20%20%20var%20marker_4245cbb53b8345058428863852c7c2a7%20%3D%20L.marker%28%0A%20%20%20%20%20%20%20%20%20%20%20%20%20%20%20%20%5B-27.481218536585374%2C%20153.00572882926832%5D%2C%0A%20%20%20%20%20%20%20%20%20%20%20%20%20%20%20%20%7B%7D%0A%20%20%20%20%20%20%20%20%20%20%20%20%29.addTo%28map_e2be1c102c8d49208723c52375a2da9e%29%3B%0A%20%20%20%20%20%20%20%20%0A%20%20%20%20%0A%20%20%20%20%20%20%20%20var%20popup_74323c8161bb4652919f30fea2733104%20%3D%20L.popup%28%7B%22maxWidth%22%3A%20%22100%25%22%7D%29%3B%0A%0A%20%20%20%20%20%20%20%20%0A%20%20%20%20%20%20%20%20%20%20%20%20var%20html_4e149790b13d444db4529fabb0c3205c%20%3D%20%24%28%60%3Cdiv%20id%3D%22html_4e149790b13d444db4529fabb0c3205c%22%20style%3D%22width%3A%20100.0%25%3B%20height%3A%20100.0%25%3B%22%3ECluster%200%3C/div%3E%60%29%5B0%5D%3B%0A%20%20%20%20%20%20%20%20%20%20%20%20popup_74323c8161bb4652919f30fea2733104.setContent%28html_4e149790b13d444db4529fabb0c3205c%29%3B%0A%20%20%20%20%20%20%20%20%0A%0A%20%20%20%20%20%20%20%20marker_4245cbb53b8345058428863852c7c2a7.bindPopup%28popup_74323c8161bb4652919f30fea2733104%29%0A%20%20%20%20%20%20%20%20%3B%0A%0A%20%20%20%20%20%20%20%20%0A%20%20%20%20%0A%20%20%20%20%0A%20%20%20%20%20%20%20%20%20%20%20%20var%20marker_b690c0a7429f45baa5400ecebd6b1a0c%20%3D%20L.marker%28%0A%20%20%20%20%20%20%20%20%20%20%20%20%20%20%20%20%5B-27.460240636363633%2C%20153.04186302272726%5D%2C%0A%20%20%20%20%20%20%20%20%20%20%20%20%20%20%20%20%7B%7D%0A%20%20%20%20%20%20%20%20%20%20%20%20%29.addTo%28map_e2be1c102c8d49208723c52375a2da9e%29%3B%0A%20%20%20%20%20%20%20%20%0A%20%20%20%20%0A%20%20%20%20%20%20%20%20var%20popup_0b5bcd97824c41f7a0c63ef6dc67cca5%20%3D%20L.popup%28%7B%22maxWidth%22%3A%20%22100%25%22%7D%29%3B%0A%0A%20%20%20%20%20%20%20%20%0A%20%20%20%20%20%20%20%20%20%20%20%20var%20html_0f56e0b939bf40ebad5284e2f8b2a3ba%20%3D%20%24%28%60%3Cdiv%20id%3D%22html_0f56e0b939bf40ebad5284e2f8b2a3ba%22%20style%3D%22width%3A%20100.0%25%3B%20height%3A%20100.0%25%3B%22%3ECluster%201%3C/div%3E%60%29%5B0%5D%3B%0A%20%20%20%20%20%20%20%20%20%20%20%20popup_0b5bcd97824c41f7a0c63ef6dc67cca5.setContent%28html_0f56e0b939bf40ebad5284e2f8b2a3ba%29%3B%0A%20%20%20%20%20%20%20%20%0A%0A%20%20%20%20%20%20%20%20marker_b690c0a7429f45baa5400ecebd6b1a0c.bindPopup%28popup_0b5bcd97824c41f7a0c63ef6dc67cca5%29%0A%20%20%20%20%20%20%20%20%3B%0A%0A%20%20%20%20%20%20%20%20%0A%20%20%20%20%0A%20%20%20%20%0A%20%20%20%20%20%20%20%20%20%20%20%20var%20marker_0b7ff895b29043be9df9b39963be1e65%20%3D%20L.marker%28%0A%20%20%20%20%20%20%20%20%20%20%20%20%20%20%20%20%5B-27.47255990624999%2C%20153.02594553125%5D%2C%0A%20%20%20%20%20%20%20%20%20%20%20%20%20%20%20%20%7B%7D%0A%20%20%20%20%20%20%20%20%20%20%20%20%29.addTo%28map_e2be1c102c8d49208723c52375a2da9e%29%3B%0A%20%20%20%20%20%20%20%20%0A%20%20%20%20%0A%20%20%20%20%20%20%20%20var%20popup_ac263fcec49c47028ab400509eace6cd%20%3D%20L.popup%28%7B%22maxWidth%22%3A%20%22100%25%22%7D%29%3B%0A%0A%20%20%20%20%20%20%20%20%0A%20%20%20%20%20%20%20%20%20%20%20%20var%20html_917e77dc39a2493c804520277b777f60%20%3D%20%24%28%60%3Cdiv%20id%3D%22html_917e77dc39a2493c804520277b777f60%22%20style%3D%22width%3A%20100.0%25%3B%20height%3A%20100.0%25%3B%22%3ECluster%202%3C/div%3E%60%29%5B0%5D%3B%0A%20%20%20%20%20%20%20%20%20%20%20%20popup_ac263fcec49c47028ab400509eace6cd.setContent%28html_917e77dc39a2493c804520277b777f60%29%3B%0A%20%20%20%20%20%20%20%20%0A%0A%20%20%20%20%20%20%20%20marker_0b7ff895b29043be9df9b39963be1e65.bindPopup%28popup_ac263fcec49c47028ab400509eace6cd%29%0A%20%20%20%20%20%20%20%20%3B%0A%0A%20%20%20%20%20%20%20%20%0A%20%20%20%20%0A%3C/script%3E onload=\"this.contentDocument.open();this.contentDocument.write(    decodeURIComponent(this.getAttribute('data-html')));this.contentDocument.close();\" allowfullscreen webkitallowfullscreen mozallowfullscreen></iframe></div></div>"
      ],
      "text/plain": [
       "<folium.folium.Map at 0x7f9e915602e0>"
      ]
     },
     "execution_count": 29,
     "metadata": {},
     "output_type": "execute_result"
    }
   ],
   "source": [
    "#On ajoute les marqueurs sur la carte\n",
    "my_map = folium.Map(location = Cluster_2, zoom_start = 13,control_scale=True, prefer_canvas=True) \n",
    "folium.Marker(Cluster_0, popup = 'Cluster 0').add_to(my_map)\n",
    "folium.Marker(Cluster_1, popup = 'Cluster 1').add_to(my_map)\n",
    "folium.Marker(Cluster_2, popup = 'Cluster 2').add_to(my_map)\n",
    "\n",
    "#On affiche la carte\n",
    "my_map"
   ]
  },
  {
   "cell_type": "markdown",
   "metadata": {},
   "source": [
    "# 9) Exportation "
   ]
  },
  {
   "cell_type": "code",
   "execution_count": null,
   "metadata": {},
   "outputs": [],
   "source": [
    "fitted_clean = fitted.select('prediction','latitude','longitude')"
   ]
  },
  {
   "cell_type": "code",
   "execution_count": null,
   "metadata": {},
   "outputs": [],
   "source": [
    "fitted_clean.coalesce(1).write.format('json').save(path_to_output_data) # Exportation à ne lancer qu'une fois\n",
    "# A chaque execution de cette ligne, le dossier nommé exported doit être supprimé."
   ]
  }
 ],
 "metadata": {
  "kernelspec": {
   "display_name": "Python 3",
   "language": "python",
   "name": "python3"
  },
  "language_info": {
   "codemirror_mode": {
    "name": "ipython",
    "version": 3
   },
   "file_extension": ".py",
   "mimetype": "text/x-python",
   "name": "python",
   "nbconvert_exporter": "python",
   "pygments_lexer": "ipython3",
   "version": "3.8.5"
  }
 },
 "nbformat": 4,
 "nbformat_minor": 4
}
